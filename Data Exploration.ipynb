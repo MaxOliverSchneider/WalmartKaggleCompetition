{
 "cells": [
  {
   "cell_type": "code",
   "execution_count": 26,
   "id": "b19daa06",
   "metadata": {
    "ExecuteTime": {
     "end_time": "2021-10-14T10:01:34.905265Z",
     "start_time": "2021-10-14T10:01:34.890303Z"
    },
    "init_cell": true
   },
   "outputs": [],
   "source": [
    "import pandas as pd\n",
    "import matplotlib as mpl"
   ]
  },
  {
   "cell_type": "code",
   "execution_count": 27,
   "id": "bf9a5f18",
   "metadata": {
    "ExecuteTime": {
     "end_time": "2021-10-14T10:01:35.903237Z",
     "start_time": "2021-10-14T10:01:35.475268Z"
    },
    "init_cell": true,
    "scrolled": true
   },
   "outputs": [
    {
     "data": {
      "text/html": [
       "<div>\n",
       "<style scoped>\n",
       "    .dataframe tbody tr th:only-of-type {\n",
       "        vertical-align: middle;\n",
       "    }\n",
       "\n",
       "    .dataframe tbody tr th {\n",
       "        vertical-align: top;\n",
       "    }\n",
       "\n",
       "    .dataframe thead th {\n",
       "        text-align: right;\n",
       "    }\n",
       "</style>\n",
       "<table border=\"1\" class=\"dataframe\">\n",
       "  <thead>\n",
       "    <tr style=\"text-align: right;\">\n",
       "      <th></th>\n",
       "      <th>TripType</th>\n",
       "      <th>VisitNumber</th>\n",
       "      <th>Weekday</th>\n",
       "      <th>Upc</th>\n",
       "      <th>ScanCount</th>\n",
       "      <th>DepartmentDescription</th>\n",
       "      <th>FinelineNumber</th>\n",
       "    </tr>\n",
       "  </thead>\n",
       "  <tbody>\n",
       "    <tr>\n",
       "      <th>0</th>\n",
       "      <td>999</td>\n",
       "      <td>5</td>\n",
       "      <td>Friday</td>\n",
       "      <td>6.811315e+10</td>\n",
       "      <td>-1</td>\n",
       "      <td>FINANCIAL SERVICES</td>\n",
       "      <td>1000.0</td>\n",
       "    </tr>\n",
       "    <tr>\n",
       "      <th>1</th>\n",
       "      <td>30</td>\n",
       "      <td>7</td>\n",
       "      <td>Friday</td>\n",
       "      <td>6.053882e+10</td>\n",
       "      <td>1</td>\n",
       "      <td>SHOES</td>\n",
       "      <td>8931.0</td>\n",
       "    </tr>\n",
       "    <tr>\n",
       "      <th>2</th>\n",
       "      <td>30</td>\n",
       "      <td>7</td>\n",
       "      <td>Friday</td>\n",
       "      <td>7.410811e+09</td>\n",
       "      <td>1</td>\n",
       "      <td>PERSONAL CARE</td>\n",
       "      <td>4504.0</td>\n",
       "    </tr>\n",
       "    <tr>\n",
       "      <th>3</th>\n",
       "      <td>26</td>\n",
       "      <td>8</td>\n",
       "      <td>Friday</td>\n",
       "      <td>2.238404e+09</td>\n",
       "      <td>2</td>\n",
       "      <td>PAINT AND ACCESSORIES</td>\n",
       "      <td>3565.0</td>\n",
       "    </tr>\n",
       "    <tr>\n",
       "      <th>4</th>\n",
       "      <td>26</td>\n",
       "      <td>8</td>\n",
       "      <td>Friday</td>\n",
       "      <td>2.006614e+09</td>\n",
       "      <td>2</td>\n",
       "      <td>PAINT AND ACCESSORIES</td>\n",
       "      <td>1017.0</td>\n",
       "    </tr>\n",
       "    <tr>\n",
       "      <th>...</th>\n",
       "      <td>...</td>\n",
       "      <td>...</td>\n",
       "      <td>...</td>\n",
       "      <td>...</td>\n",
       "      <td>...</td>\n",
       "      <td>...</td>\n",
       "      <td>...</td>\n",
       "    </tr>\n",
       "    <tr>\n",
       "      <th>647049</th>\n",
       "      <td>39</td>\n",
       "      <td>191346</td>\n",
       "      <td>Sunday</td>\n",
       "      <td>3.239000e+10</td>\n",
       "      <td>1</td>\n",
       "      <td>PHARMACY OTC</td>\n",
       "      <td>1118.0</td>\n",
       "    </tr>\n",
       "    <tr>\n",
       "      <th>647050</th>\n",
       "      <td>39</td>\n",
       "      <td>191346</td>\n",
       "      <td>Sunday</td>\n",
       "      <td>7.874205e+09</td>\n",
       "      <td>1</td>\n",
       "      <td>FROZEN FOODS</td>\n",
       "      <td>1752.0</td>\n",
       "    </tr>\n",
       "    <tr>\n",
       "      <th>647051</th>\n",
       "      <td>39</td>\n",
       "      <td>191346</td>\n",
       "      <td>Sunday</td>\n",
       "      <td>4.072000e+03</td>\n",
       "      <td>1</td>\n",
       "      <td>PRODUCE</td>\n",
       "      <td>4170.0</td>\n",
       "    </tr>\n",
       "    <tr>\n",
       "      <th>647052</th>\n",
       "      <td>8</td>\n",
       "      <td>191347</td>\n",
       "      <td>Sunday</td>\n",
       "      <td>4.190008e+09</td>\n",
       "      <td>1</td>\n",
       "      <td>DAIRY</td>\n",
       "      <td>1512.0</td>\n",
       "    </tr>\n",
       "    <tr>\n",
       "      <th>647053</th>\n",
       "      <td>8</td>\n",
       "      <td>191347</td>\n",
       "      <td>Sunday</td>\n",
       "      <td>3.800060e+09</td>\n",
       "      <td>1</td>\n",
       "      <td>GROCERY DRY GOODS</td>\n",
       "      <td>3600.0</td>\n",
       "    </tr>\n",
       "  </tbody>\n",
       "</table>\n",
       "<p>647054 rows × 7 columns</p>\n",
       "</div>"
      ],
      "text/plain": [
       "        TripType  VisitNumber Weekday           Upc  ScanCount  \\\n",
       "0            999            5  Friday  6.811315e+10         -1   \n",
       "1             30            7  Friday  6.053882e+10          1   \n",
       "2             30            7  Friday  7.410811e+09          1   \n",
       "3             26            8  Friday  2.238404e+09          2   \n",
       "4             26            8  Friday  2.006614e+09          2   \n",
       "...          ...          ...     ...           ...        ...   \n",
       "647049        39       191346  Sunday  3.239000e+10          1   \n",
       "647050        39       191346  Sunday  7.874205e+09          1   \n",
       "647051        39       191346  Sunday  4.072000e+03          1   \n",
       "647052         8       191347  Sunday  4.190008e+09          1   \n",
       "647053         8       191347  Sunday  3.800060e+09          1   \n",
       "\n",
       "        DepartmentDescription  FinelineNumber  \n",
       "0          FINANCIAL SERVICES          1000.0  \n",
       "1                       SHOES          8931.0  \n",
       "2               PERSONAL CARE          4504.0  \n",
       "3       PAINT AND ACCESSORIES          3565.0  \n",
       "4       PAINT AND ACCESSORIES          1017.0  \n",
       "...                       ...             ...  \n",
       "647049           PHARMACY OTC          1118.0  \n",
       "647050           FROZEN FOODS          1752.0  \n",
       "647051                PRODUCE          4170.0  \n",
       "647052                  DAIRY          1512.0  \n",
       "647053      GROCERY DRY GOODS          3600.0  \n",
       "\n",
       "[647054 rows x 7 columns]"
      ]
     },
     "execution_count": 27,
     "metadata": {},
     "output_type": "execute_result"
    }
   ],
   "source": [
    "data = pd.read_csv(\"train.csv\")\n",
    "data"
   ]
  },
  {
   "cell_type": "code",
   "execution_count": 28,
   "id": "482d7858",
   "metadata": {
    "ExecuteTime": {
     "end_time": "2021-10-14T10:01:37.122306Z",
     "start_time": "2021-10-14T10:01:37.107344Z"
    }
   },
   "outputs": [
    {
     "data": {
      "text/plain": [
       "'\\nDATA ENTRIES\\nTripType - a categorical id representing the type of shopping trip the customer made. This is the ground truth that you are predicting. TripType_999 is an \"other\" category.\\nVisitNumber - an id corresponding to a single trip by a single customer\\nWeekday - the weekday of the trip\\nUpc - the UPC number of the product purchased\\nScanCount - the number of the given item that was purchased. A negative value indicates a product return.\\nDepartmentDescription - a high-level description of the item\\'s department\\nFinelineNumber - a more refined category for each of the products, created by Walmart\\n'"
      ]
     },
     "execution_count": 28,
     "metadata": {},
     "output_type": "execute_result"
    }
   ],
   "source": [
    "'''\n",
    "DATA ENTRIES\n",
    "TripType - a categorical id representing the type of shopping trip the customer made. This is the ground truth that you are predicting. TripType_999 is an \"other\" category.\n",
    "VisitNumber - an id corresponding to a single trip by a single customer\n",
    "Weekday - the weekday of the trip\n",
    "Upc - the UPC number of the product purchased\n",
    "ScanCount - the number of the given item that was purchased. A negative value indicates a product return.\n",
    "DepartmentDescription - a high-level description of the item's department\n",
    "FinelineNumber - a more refined category for each of the products, created by Walmart\n",
    "'''"
   ]
  },
  {
   "cell_type": "code",
   "execution_count": 29,
   "id": "bc93232b",
   "metadata": {
    "ExecuteTime": {
     "end_time": "2021-10-14T10:01:37.794178Z",
     "start_time": "2021-10-14T10:01:37.651338Z"
    }
   },
   "outputs": [
    {
     "data": {
      "text/html": [
       "<div>\n",
       "<style scoped>\n",
       "    .dataframe tbody tr th:only-of-type {\n",
       "        vertical-align: middle;\n",
       "    }\n",
       "\n",
       "    .dataframe tbody tr th {\n",
       "        vertical-align: top;\n",
       "    }\n",
       "\n",
       "    .dataframe thead th {\n",
       "        text-align: right;\n",
       "    }\n",
       "</style>\n",
       "<table border=\"1\" class=\"dataframe\">\n",
       "  <thead>\n",
       "    <tr style=\"text-align: right;\">\n",
       "      <th></th>\n",
       "      <th>TripType</th>\n",
       "      <th>VisitNumber</th>\n",
       "      <th>Upc</th>\n",
       "      <th>ScanCount</th>\n",
       "      <th>FinelineNumber</th>\n",
       "    </tr>\n",
       "  </thead>\n",
       "  <tbody>\n",
       "    <tr>\n",
       "      <th>count</th>\n",
       "      <td>647054.000000</td>\n",
       "      <td>647054.000000</td>\n",
       "      <td>6.429250e+05</td>\n",
       "      <td>647054.000000</td>\n",
       "      <td>642925.000000</td>\n",
       "    </tr>\n",
       "    <tr>\n",
       "      <th>mean</th>\n",
       "      <td>58.584511</td>\n",
       "      <td>96167.640078</td>\n",
       "      <td>3.060698e+10</td>\n",
       "      <td>1.108878</td>\n",
       "      <td>3726.884567</td>\n",
       "    </tr>\n",
       "    <tr>\n",
       "      <th>std</th>\n",
       "      <td>157.635533</td>\n",
       "      <td>55545.485154</td>\n",
       "      <td>9.120134e+10</td>\n",
       "      <td>0.700776</td>\n",
       "      <td>2780.966158</td>\n",
       "    </tr>\n",
       "    <tr>\n",
       "      <th>min</th>\n",
       "      <td>3.000000</td>\n",
       "      <td>5.000000</td>\n",
       "      <td>8.340000e+02</td>\n",
       "      <td>-12.000000</td>\n",
       "      <td>0.000000</td>\n",
       "    </tr>\n",
       "    <tr>\n",
       "      <th>25%</th>\n",
       "      <td>27.000000</td>\n",
       "      <td>49268.000000</td>\n",
       "      <td>3.400001e+09</td>\n",
       "      <td>1.000000</td>\n",
       "      <td>1404.000000</td>\n",
       "    </tr>\n",
       "    <tr>\n",
       "      <th>50%</th>\n",
       "      <td>39.000000</td>\n",
       "      <td>97074.000000</td>\n",
       "      <td>7.050103e+09</td>\n",
       "      <td>1.000000</td>\n",
       "      <td>3352.000000</td>\n",
       "    </tr>\n",
       "    <tr>\n",
       "      <th>75%</th>\n",
       "      <td>40.000000</td>\n",
       "      <td>144316.000000</td>\n",
       "      <td>3.006531e+10</td>\n",
       "      <td>1.000000</td>\n",
       "      <td>5501.000000</td>\n",
       "    </tr>\n",
       "    <tr>\n",
       "      <th>max</th>\n",
       "      <td>999.000000</td>\n",
       "      <td>191347.000000</td>\n",
       "      <td>9.789707e+11</td>\n",
       "      <td>71.000000</td>\n",
       "      <td>9998.000000</td>\n",
       "    </tr>\n",
       "  </tbody>\n",
       "</table>\n",
       "</div>"
      ],
      "text/plain": [
       "            TripType    VisitNumber           Upc      ScanCount  \\\n",
       "count  647054.000000  647054.000000  6.429250e+05  647054.000000   \n",
       "mean       58.584511   96167.640078  3.060698e+10       1.108878   \n",
       "std       157.635533   55545.485154  9.120134e+10       0.700776   \n",
       "min         3.000000       5.000000  8.340000e+02     -12.000000   \n",
       "25%        27.000000   49268.000000  3.400001e+09       1.000000   \n",
       "50%        39.000000   97074.000000  7.050103e+09       1.000000   \n",
       "75%        40.000000  144316.000000  3.006531e+10       1.000000   \n",
       "max       999.000000  191347.000000  9.789707e+11      71.000000   \n",
       "\n",
       "       FinelineNumber  \n",
       "count   642925.000000  \n",
       "mean      3726.884567  \n",
       "std       2780.966158  \n",
       "min          0.000000  \n",
       "25%       1404.000000  \n",
       "50%       3352.000000  \n",
       "75%       5501.000000  \n",
       "max       9998.000000  "
      ]
     },
     "execution_count": 29,
     "metadata": {},
     "output_type": "execute_result"
    }
   ],
   "source": [
    "#Describe data\n",
    "data.describe()\n",
    "#Need to check missing values in Upc and FinelineNumber, since count is smaller"
   ]
  },
  {
   "cell_type": "code",
   "execution_count": 30,
   "id": "b1b01989",
   "metadata": {
    "ExecuteTime": {
     "end_time": "2021-10-14T10:01:39.506372Z",
     "start_time": "2021-10-14T10:01:38.123133Z"
    }
   },
   "outputs": [
    {
     "data": {
      "text/plain": [
       "array([[<AxesSubplot:title={'center':'TripType'}>,\n",
       "        <AxesSubplot:title={'center':'VisitNumber'}>],\n",
       "       [<AxesSubplot:title={'center':'Upc'}>,\n",
       "        <AxesSubplot:title={'center':'ScanCount'}>],\n",
       "       [<AxesSubplot:title={'center':'FinelineNumber'}>, <AxesSubplot:>]],\n",
       "      dtype=object)"
      ]
     },
     "execution_count": 30,
     "metadata": {},
     "output_type": "execute_result"
    },
    {
     "data": {
      "image/png": "[encoded data removed]",
      "text/plain": [
       "<Figure size 1080x720 with 6 Axes>"
      ]
     },
     "metadata": {
      "needs_background": "light"
     },
     "output_type": "display_data"
    }
   ],
   "source": [
    "#Plotting histograms of all numerical variables\n",
    "data.hist(bins=30, figsize=(15, 10))"
   ]
  },
  {
   "cell_type": "code",
   "execution_count": 31,
   "id": "685d4921",
   "metadata": {
    "ExecuteTime": {
     "end_time": "2021-10-14T10:01:39.663660Z",
     "start_time": "2021-10-14T10:01:39.507370Z"
    }
   },
   "outputs": [
    {
     "name": "stdout",
     "output_type": "stream",
     "text": [
      "TripType: 38\n",
      "VisitNumber: 95674\n",
      "Weekday: 7\n",
      "Upc: 97715\n",
      "ScanCount: 39\n",
      "DepartmentDescription: 69\n",
      "FinelineNumber: 5196\n"
     ]
    }
   ],
   "source": [
    "for col in data: print(f\"{col}: {len(data[col].unique())}\")"
   ]
  },
  {
   "cell_type": "code",
   "execution_count": 32,
   "id": "fc1db845",
   "metadata": {
    "ExecuteTime": {
     "end_time": "2021-10-14T10:01:39.679653Z",
     "start_time": "2021-10-14T10:01:39.664685Z"
    }
   },
   "outputs": [
    {
     "name": "stdout",
     "output_type": "stream",
     "text": [
      "(38,)\n"
     ]
    }
   ],
   "source": [
    "#Outlier removal \n",
    "\n",
    "#Trip Type: 38 Unique values are consistent with descritption in competition\n",
    "#VisitNumber, Weekday and Upc, DepartmentDescription, Fineline Number should be fine\n",
    "#ScanCount seems to be fine. Maybe setting all values <-1 to -1 could improve model performance (Check if all trips where\n",
    "#Scan Count <=-1 are of the same type)\n",
    "print(data.loc[:,\"TripType\"][data.ScanCount <= -1].unique().shape) #All trip types are included"
   ]
  },
  {
   "cell_type": "code",
   "execution_count": 58,
   "id": "250a5a5b",
   "metadata": {
    "ExecuteTime": {
     "end_time": "2021-10-14T10:42:40.415721Z",
     "start_time": "2021-10-14T10:42:38.107651Z"
    },
    "code_folding": []
   },
   "outputs": [
    {
     "name": "stderr",
     "output_type": "stream",
     "text": [
      "C:\\Users\\max\\AppData\\Local\\Temp/ipykernel_1572/3875705322.py:3: SettingWithCopyWarning: \n",
      "A value is trying to be set on a copy of a slice from a DataFrame\n",
      "\n",
      "See the caveats in the documentation: https://pandas.pydata.org/pandas-docs/stable/user_guide/indexing.html#returning-a-view-versus-a-copy\n",
      "  data.loc[:,\"NPurchases\"][data[\"VisitNumber\"]==7] =3\n"
     ]
    }
   ],
   "source": [
    "data['NPurchases'] = 0\n",
    "NPurchases = data[\"VisitNumber\"].value_counts()\n",
    "data[\"NPurchases\"] = [NPurchases[i] for i in data[\"VisitNumber\"]]\n",
    "\n",
    "#for i in data[\"VisitNumber\"].unique():\n",
    "#    data.loc[:,\"NPurchases\"][data[\"VisitNumber\"]==i] = NPurchases[i]"
   ]
  },
  {
   "cell_type": "code",
   "execution_count": null,
   "id": "10917daa",
   "metadata": {},
   "outputs": [],
   "source": [
    "# (Potential) To - Do\n",
    "# 1 Group together the rows with the same visit number. How?\n",
    "    #1.1 (Preferred) Leave the absolute number of rows, but include two new columns (number of buys done on trip & total number of items purchased)\n",
    "    #1.2 Put all into one row and create new features with lists (e.g. of items bought); will be hard to implement in model. \n",
    "    #     Also probably not what they want to have predicted\n",
    "# 2 Find method to reduce number of unique values of Upc and potentially Fineline Number as well (not sure how to do it)\n",
    "# 3 Think of feature engineering\n",
    "    #Dummy for weekend (maybe begin and of week), somehow cyclical representation of days of week with sin/cos?\n",
    "    #Dummy of luxury products (such products that are typically only bought in small amounts)\n",
    "    #Dummy if number of things bought in one trip or of one product exceeds certain limit, dummy if both occurs\n",
    "    #Further categorizing of products, which might be correlated with some sorts of shopping trip"
   ]
  },
  {
   "cell_type": "code",
   "execution_count": null,
   "id": "87e86556",
   "metadata": {},
   "outputs": [],
   "source": [
    "#Think of\n",
    "#Splitting of data into train, val and test needs to be done before any feature engineering because of data leakage"
   ]
  }
 ],
 "metadata": {
  "celltoolbar": "Initialization Cell",
  "kernelspec": {
   "display_name": "Python 3 (ipykernel)",
   "language": "python",
   "name": "python3"
  },
  "language_info": {
   "codemirror_mode": {
    "name": "ipython",
    "version": 3
   },
   "file_extension": ".py",
   "mimetype": "text/x-python",
   "name": "python",
   "nbconvert_exporter": "python",
   "pygments_lexer": "ipython3",
   "version": "3.9.7"
  }
 },
 "nbformat": 4,
 "nbformat_minor": 5
}
